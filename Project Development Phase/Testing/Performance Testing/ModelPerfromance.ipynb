{
 "cells": [
  {
   "cell_type": "markdown",
   "id": "add767a9",
   "metadata": {},
   "source": [
    "<h3>Model Performance Testing<h3>"
   ]
  },
  {
   "cell_type": "code",
   "execution_count": 148,
   "id": "b32ad6d6",
   "metadata": {},
   "outputs": [],
   "source": [
    "from tensorflow.keras.models import load_model\n",
    "from tensorflow.keras.preprocessing import image\n",
    "import numpy as np\n",
    "import matplotlib.pyplot as plt\n",
    "from sklearn.metrics import classification_report\n",
    "import pandas as pd\n",
    "import os\n",
    "from sklearn.metrics import PrecisionRecallDisplay\n",
    "import tensorflow as tf"
   ]
  },
  {
   "cell_type": "markdown",
   "id": "f40f5d7d",
   "metadata": {},
   "source": [
    "<h4>Load Model<h4>"
   ]
  },
  {
   "cell_type": "code",
   "execution_count": 135,
   "id": "284f2abd",
   "metadata": {},
   "outputs": [],
   "source": [
    "model = load_model('gesture.h5')"
   ]
  },
  {
   "cell_type": "markdown",
   "id": "a4f2acef",
   "metadata": {},
   "source": [
    "<h4>Confusion Matrix</h4>"
   ]
  },
  {
   "cell_type": "code",
   "execution_count": 136,
   "id": "04e50103",
   "metadata": {},
   "outputs": [],
   "source": [
    "from sklearn.metrics import classification_report"
   ]
  },
  {
   "cell_type": "code",
   "execution_count": 137,
   "id": "770f4a9c",
   "metadata": {},
   "outputs": [],
   "source": [
    "path = \"Dataset/test/\"\n",
    "test_images_path = []\n",
    "labels = []\n",
    "y_test = []\n",
    "for directory in os.listdir(path):\n",
    "    for img_name in os.listdir(path+directory ):\n",
    "        test_images_path.append(path+directory+\"/\"+img_name)\n",
    "        labels.append(int(directory))\n",
    "        q = [0]*6 \n",
    "        q[int(directory)] = 1\n",
    "        y_test.append(q)"
   ]
  },
  {
   "cell_type": "code",
   "execution_count": 147,
   "id": "7dab187a",
   "metadata": {},
   "outputs": [],
   "source": [
    "predicted_list = []\n",
    "X_test=[]\n",
    "predicted_prob = []\n",
    "for img_path in test_images_path:\n",
    "    img = image.load_img(img_path,grayscale=True,target_size=(64,64))\n",
    "    x = image.img_to_array(img)\n",
    "    X_test.append(x)\n",
    "    x = np.expand_dims(x,axis=0)\n",
    "    predicted_prob.append(model.predict(x))\n",
    "    pred = np.argmax(model.predict(x),axis=1)\n",
    "    predicted_list.append(pred)\n"
   ]
  },
  {
   "cell_type": "code",
   "execution_count": 139,
   "id": "3784f190",
   "metadata": {},
   "outputs": [],
   "source": [
    "predicted_prob = np.array(predicted_prob)\n",
    "y_test = np.array(y_test).reshape(30,1,6)"
   ]
  },
  {
   "cell_type": "code",
   "execution_count": 140,
   "id": "ef664e0a",
   "metadata": {},
   "outputs": [
    {
     "name": "stdout",
     "output_type": "stream",
     "text": [
      "The Confusion Matrix\n",
      "           gesture-0  gesture-1  gesture-2  gesture-3  gesture-4  gesture-5\n",
      "gesture-0          5          0          0          0          0          0\n",
      "gesture-1          0          5          0          0          0          0\n",
      "gesture-2          0          1          4          0          0          0\n",
      "gesture-3          0          0          0          5          0          0\n",
      "gesture-4          0          0          0          2          3          0\n",
      "gesture-5          0          0          0          0          0          5\n"
     ]
    }
   ],
   "source": [
    "matrix = tf.math.confusion_matrix(labels,predicted_list)\n",
    "print(\"The Confusion Matrix\")\n",
    "cm=pd.DataFrame(matrix,index=['gesture-0','gesture-1','gesture-2','gesture-3','gesture-4','gesture-5'],\n",
    "                columns=['gesture-0','gesture-1','gesture-2','gesture-3','gesture-4','gesture-5'])\n",
    "print(cm)"
   ]
  },
  {
   "cell_type": "markdown",
   "id": "89967647",
   "metadata": {},
   "source": [
    "<h4>Classification Report </h4>"
   ]
  },
  {
   "cell_type": "code",
   "execution_count": 141,
   "id": "194f43ef",
   "metadata": {},
   "outputs": [
    {
     "name": "stdout",
     "output_type": "stream",
     "text": [
      "              precision    recall  f1-score   support\n",
      "\n",
      "           0       1.00      1.00      1.00         5\n",
      "           1       0.83      1.00      0.91         5\n",
      "           2       1.00      0.80      0.89         5\n",
      "           3       0.71      1.00      0.83         5\n",
      "           4       1.00      0.60      0.75         5\n",
      "           5       1.00      1.00      1.00         5\n",
      "\n",
      "    accuracy                           0.90        30\n",
      "   macro avg       0.92      0.90      0.90        30\n",
      "weighted avg       0.92      0.90      0.90        30\n",
      "\n"
     ]
    }
   ],
   "source": [
    "print(classification_report(labels, predicted_list))"
   ]
  },
  {
   "cell_type": "markdown",
   "id": "cae0af5f",
   "metadata": {},
   "source": [
    "<h4>Accuracy Score</h4>"
   ]
  },
  {
   "cell_type": "code",
   "execution_count": 142,
   "id": "ae7e79c8",
   "metadata": {},
   "outputs": [],
   "source": [
    "from sklearn.metrics import accuracy_score"
   ]
  },
  {
   "cell_type": "code",
   "execution_count": 143,
   "id": "4c79b12b",
   "metadata": {},
   "outputs": [
    {
     "name": "stdout",
     "output_type": "stream",
     "text": [
      "Accuracy is  0.9\n"
     ]
    }
   ],
   "source": [
    "accuracy = accuracy_score(labels,predicted_list)\n",
    "print(\"Accuracy is \",accuracy)"
   ]
  },
  {
   "cell_type": "markdown",
   "id": "ade75f5a",
   "metadata": {},
   "source": [
    "<h4>Recall </h4>"
   ]
  },
  {
   "cell_type": "code",
   "execution_count": 144,
   "id": "45dee7d0",
   "metadata": {},
   "outputs": [
    {
     "name": "stdout",
     "output_type": "stream",
     "text": [
      "Recall is  0.9\n"
     ]
    }
   ],
   "source": [
    "from sklearn.metrics import recall_score\n",
    "recall = recall_score(labels,predicted_list,average='micro')\n",
    "print(\"Recall is \",recall)"
   ]
  },
  {
   "cell_type": "markdown",
   "id": "c8a16f94",
   "metadata": {},
   "source": [
    "<h4>F1 score </h4>"
   ]
  },
  {
   "cell_type": "code",
   "execution_count": 145,
   "id": "d2d9670a",
   "metadata": {},
   "outputs": [
    {
     "name": "stdout",
     "output_type": "stream",
     "text": [
      "F1 score is  0.9\n"
     ]
    }
   ],
   "source": [
    "from sklearn.metrics import f1_score\n",
    "f1_score = f1_score(labels,predicted_list,average='micro')\n",
    "print(\"F1 score is \",f1_score)"
   ]
  },
  {
   "cell_type": "markdown",
   "id": "30045163",
   "metadata": {},
   "source": [
    "<h4>Precision Recall Graph</h4>"
   ]
  },
  {
   "cell_type": "code",
   "execution_count": 123,
   "id": "9d834375",
   "metadata": {},
   "outputs": [
    {
     "data": {
      "text/plain": [
       "<matplotlib.legend.Legend at 0x7fc50e3566d0>"
      ]
     },
     "execution_count": 123,
     "metadata": {},
     "output_type": "execute_result"
    },
    {
     "data": {
      "image/png": "[encoded data removed]",
      "text/plain": [
       "<Figure size 640x480 with 1 Axes>"
      ]
     },
     "metadata": {},
     "output_type": "display_data"
    }
   ],
   "source": [
    "from sklearn.metrics import precision_recall_curve, roc_curve\n",
    "import matplotlib.pyplot as plt\n",
    "n_classes = 6\n",
    "precision = dict()\n",
    "recall = dict()\n",
    "for i in range(n_classes):\n",
    "    precision[i], recall[i], _ = precision_recall_curve(y_test[:, :,i],\n",
    "                                                        predicted_prob[:, :,i])\n",
    "    plt.plot(recall[i], precision[i], lw=2, label='class {}'.format(i))\n",
    "plt.xlabel(\"recall\")\n",
    "plt.ylabel(\"precision\")\n",
    "plt.legend()"
   ]
  },
  {
   "cell_type": "code",
   "execution_count": null,
   "id": "0b14a752",
   "metadata": {},
   "outputs": [],
   "source": []
  }
 ],
 "metadata": {
  "kernelspec": {
   "display_name": "Python 3 (ipykernel)",
   "language": "python",
   "name": "python3"
  },
  "language_info": {
   "codemirror_mode": {
    "name": "ipython",
    "version": 3
   },
   "file_extension": ".py",
   "mimetype": "text/x-python",
   "name": "python",
   "nbconvert_exporter": "python",
   "pygments_lexer": "ipython3",
   "version": "3.9.0"
  }
 },
 "nbformat": 4,
 "nbformat_minor": 5
}
