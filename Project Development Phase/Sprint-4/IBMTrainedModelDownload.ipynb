{
 "cells": [
  {
   "cell_type": "markdown",
   "metadata": {},
   "source": [
    "Using the Trained model from IBM"
   ]
  },
  {
   "cell_type": "code",
   "execution_count": 1,
   "metadata": {},
   "outputs": [
    {
     "name": "stdout",
     "output_type": "stream",
     "text": [
      "Collecting ibm-watson-machine-learning\n",
      "  Downloading ibm_watson_machine_learning-1.0.257-py3-none-any.whl (1.8 MB)\n",
      "\u001b[2K     \u001b[38;2;114;156;31m━━━━━━━━━━━━━━━━━━━━━━━━━━━━━━━━━━━━━━━━\u001b[0m \u001b[32m1.8/1.8 MB\u001b[0m \u001b[31m24.3 MB/s\u001b[0m eta \u001b[36m0:00:00\u001b[0mm eta \u001b[36m0:00:01\u001b[0m0:01\u001b[0m\n",
      "\u001b[?25hRequirement already satisfied: certifi in /home/local/ZOHOCORP/kala-pt5650/Python-Files/Python3.10.4/bin/venv3.9/lib/python3.9/site-packages (from ibm-watson-machine-learning) (2022.9.24)\n",
      "Collecting ibm-cos-sdk==2.11.*\n",
      "  Downloading ibm-cos-sdk-2.11.0.tar.gz (53 kB)\n",
      "\u001b[2K     \u001b[38;2;114;156;31m━━━━━━━━━━━━━━━━━━━━━━━━━━━━━━━━━━━━━━━━\u001b[0m \u001b[32m53.3/53.3 kB\u001b[0m \u001b[31m12.0 MB/s\u001b[0m eta \u001b[36m0:00:00\u001b[0m\n",
      "\u001b[?25h  Preparing metadata (setup.py) ... \u001b[?25ldone\n",
      "\u001b[?25hRequirement already satisfied: lomond in /home/local/ZOHOCORP/kala-pt5650/Python-Files/Python3.10.4/bin/venv3.9/lib/python3.9/site-packages (from ibm-watson-machine-learning) (0.3.3)\n",
      "Requirement already satisfied: tabulate in /home/local/ZOHOCORP/kala-pt5650/Python-Files/Python3.10.4/bin/venv3.9/lib/python3.9/site-packages (from ibm-watson-machine-learning) (0.9.0)\n",
      "Requirement already satisfied: importlib-metadata in /home/local/ZOHOCORP/kala-pt5650/Python-Files/Python3.10.4/bin/venv3.9/lib/python3.9/site-packages (from ibm-watson-machine-learning) (4.12.0)\n",
      "Requirement already satisfied: requests in /home/local/ZOHOCORP/kala-pt5650/Python-Files/Python3.10.4/bin/venv3.9/lib/python3.9/site-packages (from ibm-watson-machine-learning) (2.28.1)\n",
      "Collecting pandas<1.5.0,>=0.24.2\n",
      "  Downloading pandas-1.4.4-cp39-cp39-manylinux_2_17_x86_64.manylinux2014_x86_64.whl (11.7 MB)\n",
      "\u001b[2K     \u001b[38;2;114;156;31m━━━━━━━━━━━━━━━━━━━━━━━━━━━━━━━━━━━━━━━━\u001b[0m \u001b[32m11.7/11.7 MB\u001b[0m \u001b[31m23.0 MB/s\u001b[0m eta \u001b[36m0:00:00\u001b[0mm eta \u001b[36m0:00:01\u001b[0m[36m0:00:01\u001b[0m\n",
      "\u001b[?25hRequirement already satisfied: packaging in /home/local/ZOHOCORP/kala-pt5650/Python-Files/Python3.10.4/bin/venv3.9/lib/python3.9/site-packages (from ibm-watson-machine-learning) (21.3)\n",
      "Requirement already satisfied: urllib3 in /home/local/ZOHOCORP/kala-pt5650/Python-Files/Python3.10.4/bin/venv3.9/lib/python3.9/site-packages (from ibm-watson-machine-learning) (1.26.12)\n",
      "Collecting ibm-cos-sdk-core==2.11.0\n",
      "  Downloading ibm-cos-sdk-core-2.11.0.tar.gz (913 kB)\n",
      "\u001b[2K     \u001b[38;2;114;156;31m━━━━━━━━━━━━━━━━━━━━━━━━━━━━━━━━━━━━━━\u001b[0m \u001b[32m913.9/913.9 kB\u001b[0m \u001b[31m28.7 MB/s\u001b[0m eta \u001b[36m0:00:00\u001b[0m\n",
      "\u001b[?25h  Preparing metadata (setup.py) ... \u001b[?25ldone\n",
      "\u001b[?25hCollecting ibm-cos-sdk-s3transfer==2.11.0\n",
      "  Downloading ibm-cos-sdk-s3transfer-2.11.0.tar.gz (135 kB)\n",
      "\u001b[2K     \u001b[38;2;114;156;31m━━━━━━━━━━━━━━━━━━━━━━━━━━━━━━━━━━━━━━\u001b[0m \u001b[32m135.6/135.6 kB\u001b[0m \u001b[31m20.6 MB/s\u001b[0m eta \u001b[36m0:00:00\u001b[0m\n",
      "\u001b[?25h  Preparing metadata (setup.py) ... \u001b[?25ldone\n",
      "\u001b[?25hRequirement already satisfied: jmespath<1.0.0,>=0.7.1 in /home/local/ZOHOCORP/kala-pt5650/Python-Files/Python3.10.4/bin/venv3.9/lib/python3.9/site-packages (from ibm-cos-sdk==2.11.*->ibm-watson-machine-learning) (0.10.0)\n",
      "Requirement already satisfied: python-dateutil<3.0.0,>=2.1 in /home/local/ZOHOCORP/kala-pt5650/Python-Files/Python3.10.4/bin/venv3.9/lib/python3.9/site-packages (from ibm-cos-sdk-core==2.11.0->ibm-cos-sdk==2.11.*->ibm-watson-machine-learning) (2.8.2)\n",
      "Requirement already satisfied: pytz>=2020.1 in /home/local/ZOHOCORP/kala-pt5650/Python-Files/Python3.10.4/bin/venv3.9/lib/python3.9/site-packages (from pandas<1.5.0,>=0.24.2->ibm-watson-machine-learning) (2022.2.1)\n",
      "Requirement already satisfied: numpy>=1.18.5 in /home/local/ZOHOCORP/kala-pt5650/Python-Files/Python3.10.4/bin/venv3.9/lib/python3.9/site-packages (from pandas<1.5.0,>=0.24.2->ibm-watson-machine-learning) (1.23.4)\n",
      "Requirement already satisfied: idna<4,>=2.5 in /home/local/ZOHOCORP/kala-pt5650/Python-Files/Python3.10.4/bin/venv3.9/lib/python3.9/site-packages (from requests->ibm-watson-machine-learning) (3.4)\n",
      "Requirement already satisfied: charset-normalizer<3,>=2 in /home/local/ZOHOCORP/kala-pt5650/Python-Files/Python3.10.4/bin/venv3.9/lib/python3.9/site-packages (from requests->ibm-watson-machine-learning) (2.1.1)\n",
      "Requirement already satisfied: zipp>=0.5 in /home/local/ZOHOCORP/kala-pt5650/Python-Files/Python3.10.4/bin/venv3.9/lib/python3.9/site-packages (from importlib-metadata->ibm-watson-machine-learning) (3.8.1)\n",
      "Requirement already satisfied: six>=1.10.0 in /home/local/ZOHOCORP/kala-pt5650/Python-Files/Python3.10.4/bin/venv3.9/lib/python3.9/site-packages (from lomond->ibm-watson-machine-learning) (1.16.0)\n",
      "Requirement already satisfied: pyparsing!=3.0.5,>=2.0.2 in /home/local/ZOHOCORP/kala-pt5650/Python-Files/Python3.10.4/bin/venv3.9/lib/python3.9/site-packages (from packaging->ibm-watson-machine-learning) (3.0.9)\n",
      "Building wheels for collected packages: ibm-cos-sdk, ibm-cos-sdk-core, ibm-cos-sdk-s3transfer\n",
      "  Building wheel for ibm-cos-sdk (setup.py) ... \u001b[?25ldone\n",
      "\u001b[?25h  Created wheel for ibm-cos-sdk: filename=ibm_cos_sdk-2.11.0-py3-none-any.whl size=73641 sha256=19c83598fbb087105988fa20ff384b55d70c1a660e54a7151456b1f8fda5bcfb\n",
      "  Stored in directory: /home/local/ZOHOCORP/kala-pt5650/.cache/pip/wheels/d3/a5/34/52d2e378d3d0446989ebcd214af8bad55beecf905258852b9f\n",
      "  Building wheel for ibm-cos-sdk-core (setup.py) ... \u001b[?25ldone\n",
      "\u001b[?25h  Created wheel for ibm-cos-sdk-core: filename=ibm_cos_sdk_core-2.11.0-py3-none-any.whl size=536333 sha256=5c940979c17acffb343d6121788c4e8e5c15523c67ab97f6aefd57bf94ecc5b5\n",
      "  Stored in directory: /home/local/ZOHOCORP/kala-pt5650/.cache/pip/wheels/ed/a7/cd/32a2cf8bae11ba6fc56451b7c46608cfd9176d1da8c6f73fa1\n",
      "  Building wheel for ibm-cos-sdk-s3transfer (setup.py) ... \u001b[?25ldone\n",
      "\u001b[?25h  Created wheel for ibm-cos-sdk-s3transfer: filename=ibm_cos_sdk_s3transfer-2.11.0-py3-none-any.whl size=89471 sha256=3e0d62e893ed4c3feacf248fc26d6ff5f6c3d3293c989cf7e29d062063781970\n",
      "  Stored in directory: /home/local/ZOHOCORP/kala-pt5650/.cache/pip/wheels/4a/3f/7c/551692188f14bdb095e715dd7f1061fec13b3766d45f3c3296\n",
      "Successfully built ibm-cos-sdk ibm-cos-sdk-core ibm-cos-sdk-s3transfer\n",
      "Installing collected packages: pandas, ibm-cos-sdk-core, ibm-cos-sdk-s3transfer, ibm-cos-sdk, ibm-watson-machine-learning\n",
      "  Attempting uninstall: pandas\n",
      "    Found existing installation: pandas 1.5.0\n",
      "    Uninstalling pandas-1.5.0:\n",
      "      Successfully uninstalled pandas-1.5.0\n",
      "  Attempting uninstall: ibm-cos-sdk-core\n",
      "    Found existing installation: ibm-cos-sdk-core 2.12.0\n",
      "    Uninstalling ibm-cos-sdk-core-2.12.0:\n",
      "      Successfully uninstalled ibm-cos-sdk-core-2.12.0\n",
      "  Attempting uninstall: ibm-cos-sdk-s3transfer\n",
      "    Found existing installation: ibm-cos-sdk-s3transfer 2.12.0\n",
      "    Uninstalling ibm-cos-sdk-s3transfer-2.12.0:\n",
      "      Successfully uninstalled ibm-cos-sdk-s3transfer-2.12.0\n",
      "  Attempting uninstall: ibm-cos-sdk\n",
      "    Found existing installation: ibm-cos-sdk 2.12.0\n",
      "    Uninstalling ibm-cos-sdk-2.12.0:\n",
      "      Successfully uninstalled ibm-cos-sdk-2.12.0\n",
      "Successfully installed ibm-cos-sdk-2.11.0 ibm-cos-sdk-core-2.11.0 ibm-cos-sdk-s3transfer-2.11.0 ibm-watson-machine-learning-1.0.257 pandas-1.4.4\n",
      "\n",
      "\u001b[1m[\u001b[0m\u001b[34;49mnotice\u001b[0m\u001b[1;39;49m]\u001b[0m\u001b[39;49m A new release of pip available: \u001b[0m\u001b[31;49m22.2.2\u001b[0m\u001b[39;49m -> \u001b[0m\u001b[32;49m22.3.1\u001b[0m\n",
      "\u001b[1m[\u001b[0m\u001b[34;49mnotice\u001b[0m\u001b[1;39;49m]\u001b[0m\u001b[39;49m To update, run: \u001b[0m\u001b[32;49mpip install --upgrade pip\u001b[0m\n"
     ]
    }
   ],
   "source": [
    "!pip install ibm-watson-machine-learning"
   ]
  },
  {
   "cell_type": "code",
   "execution_count": 3,
   "metadata": {},
   "outputs": [],
   "source": [
    "from ibm_watson_machine_learning import APIClient\n",
    "wml_credentials = {\n",
    "    \"url\": \"https://us-south.ml.cloud.ibm.com\",\n",
    "    \"apikey\":\"gE076jds2asxXK8dk6ZLLC1bw4kp3iSe_97D9dao4arr\"\n",
    "    \n",
    "}\n",
    "client = APIClient(wml_credentials)"
   ]
  },
  {
   "cell_type": "code",
   "execution_count": 4,
   "metadata": {},
   "outputs": [],
   "source": [
    "client = APIClient(wml_credentials)\n"
   ]
  },
  {
   "cell_type": "code",
   "execution_count": 5,
   "metadata": {},
   "outputs": [],
   "source": [
    "def guide_from_space_name(client,space_name):\n",
    "    space = client.spaces.get_details()\n",
    "    return (next(item for item in space['resources'] if item['entity'][\"name\"]==space_name)['metadata']['id'])"
   ]
  },
  {
   "cell_type": "code",
   "execution_count": 6,
   "metadata": {},
   "outputs": [
    {
     "data": {
      "text/plain": [
       "'f9fd3717-7ae4-4764-b7d3-79d2881a2de7'"
      ]
     },
     "execution_count": 6,
     "metadata": {},
     "output_type": "execute_result"
    }
   ],
   "source": [
    "space_uid = guide_from_space_name(client,\"GestureModel\")\n",
    "space_uid"
   ]
  },
  {
   "cell_type": "code",
   "execution_count": 7,
   "metadata": {},
   "outputs": [
    {
     "data": {
      "text/plain": [
       "'SUCCESS'"
      ]
     },
     "execution_count": 7,
     "metadata": {},
     "output_type": "execute_result"
    }
   ],
   "source": [
    "client.set.default_space(space_uid)\n"
   ]
  },
  {
   "cell_type": "code",
   "execution_count": 9,
   "metadata": {},
   "outputs": [
    {
     "name": "stdout",
     "output_type": "stream",
     "text": [
      "Successfully saved model content to file: 'gesture_model.tar.gz'\n"
     ]
    },
    {
     "data": {
      "text/plain": [
       "'/home/local/ZOHOCORP/kala-pt5650/Documents/Gesture/gesture_model.tar.gz'"
      ]
     },
     "execution_count": 9,
     "metadata": {},
     "output_type": "execute_result"
    }
   ],
   "source": [
    "model_id = 'a8393184-0aff-4a98-a9dd-e0ffc2172ade'\n",
    "client.repository.download(model_id,'gesture_model.tar.gz')"
   ]
  },
  {
   "cell_type": "code",
   "execution_count": null,
   "metadata": {},
   "outputs": [],
   "source": []
  }
 ],
 "metadata": {
  "kernelspec": {
   "display_name": "Python 3 (ipykernel)",
   "language": "python",
   "name": "python3"
  },
  "language_info": {
   "codemirror_mode": {
    "name": "ipython",
    "version": 3
   },
   "file_extension": ".py",
   "mimetype": "text/x-python",
   "name": "python",
   "nbconvert_exporter": "python",
   "pygments_lexer": "ipython3",
   "version": "3.9.0"
  },
  "vscode": {
   "interpreter": {
    "hash": "85608488f3a17fdaa1b364b9e22bf12e969be5eafa99dc98ce11e328ed13206b"
   }
  }
 },
 "nbformat": 4,
 "nbformat_minor": 2
}
